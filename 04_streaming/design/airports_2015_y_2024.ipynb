{
 "cells": [
  {
   "cell_type": "code",
   "execution_count": 1,
   "metadata": {},
   "outputs": [],
   "source": [
    "import pandas as pd"
   ]
  },
  {
   "cell_type": "code",
   "execution_count": 2,
   "metadata": {},
   "outputs": [],
   "source": [
    "df_ap = pd.read_csv(\"airports.csv\")\n",
    "df_ap_2024 = pd.read_csv(\"airports_2024.csv\")"
   ]
  },
  {
   "cell_type": "code",
   "execution_count": 3,
   "metadata": {},
   "outputs": [
    {
     "data": {
      "text/plain": [
       "AIRPORT_SEQ_ID                      int64\n",
       "AIRPORT_ID                          int64\n",
       "AIRPORT                            object\n",
       "DISPLAY_AIRPORT_NAME               object\n",
       "DISPLAY_AIRPORT_CITY_NAME_FULL     object\n",
       "AIRPORT_WAC_SEQ_ID2                 int64\n",
       "AIRPORT_WAC                         int64\n",
       "AIRPORT_COUNTRY_NAME               object\n",
       "AIRPORT_COUNTRY_CODE_ISO           object\n",
       "AIRPORT_STATE_NAME                 object\n",
       "AIRPORT_STATE_CODE                 object\n",
       "AIRPORT_STATE_FIPS                float64\n",
       "CITY_MARKET_SEQ_ID                  int64\n",
       "CITY_MARKET_ID                      int64\n",
       "DISPLAY_CITY_MARKET_NAME_FULL      object\n",
       "CITY_MARKET_WAC_SEQ_ID2             int64\n",
       "CITY_MARKET_WAC                     int64\n",
       "LAT_DEGREES                       float64\n",
       "LAT_HEMISPHERE                     object\n",
       "LAT_MINUTES                       float64\n",
       "LAT_SECONDS                       float64\n",
       "LATITUDE                          float64\n",
       "LON_DEGREES                       float64\n",
       "LON_HEMISPHERE                     object\n",
       "LON_MINUTES                       float64\n",
       "LON_SECONDS                       float64\n",
       "LONGITUDE                         float64\n",
       "UTC_LOCAL_TIME_VARIATION          float64\n",
       "AIRPORT_START_DATE                 object\n",
       "AIRPORT_THRU_DATE                  object\n",
       "AIRPORT_IS_CLOSED                   int64\n",
       "AIRPORT_IS_LATEST                   int64\n",
       "dtype: object"
      ]
     },
     "execution_count": 3,
     "metadata": {},
     "output_type": "execute_result"
    }
   ],
   "source": [
    "df_ap_2024.dtypes"
   ]
  },
  {
   "cell_type": "code",
   "execution_count": 4,
   "metadata": {},
   "outputs": [
    {
     "data": {
      "text/plain": [
       "AIRPORT_SEQ_ID      int64\n",
       "LATITUDE          float64\n",
       "LONGITUDE         float64\n",
       "dtype: object"
      ]
     },
     "execution_count": 4,
     "metadata": {},
     "output_type": "execute_result"
    }
   ],
   "source": [
    "df_ap_2024.iloc[:,[0,21,26]].dtypes"
   ]
  },
  {
   "cell_type": "code",
   "execution_count": null,
   "metadata": {},
   "outputs": [],
   "source": [
    "df_ap_2024.iloc[:, [0,21,26]]"
   ]
  }
 ],
 "metadata": {
  "kernelspec": {
   "display_name": "dsongcp",
   "language": "python",
   "name": "python3"
  },
  "language_info": {
   "codemirror_mode": {
    "name": "ipython",
    "version": 3
   },
   "file_extension": ".py",
   "mimetype": "text/x-python",
   "name": "python",
   "nbconvert_exporter": "python",
   "pygments_lexer": "ipython3",
   "version": "3.10.12"
  }
 },
 "nbformat": 4,
 "nbformat_minor": 2
}
