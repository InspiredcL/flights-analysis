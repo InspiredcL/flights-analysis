{
 "cells": [
  {
   "cell_type": "markdown",
   "metadata": {},
   "source": [
    "# Local Notebook"
   ]
  },
  {
   "cell_type": "code",
   "execution_count": null,
   "metadata": {},
   "outputs": [],
   "source": [
    "\"\"\"\n",
    "_summary_\n",
    "\n",
    "\"\"\"\n",
    "\n",
    "from google.cloud import bigquery\n",
    "import pandas as pd\n",
    "import pandas_gbq"
   ]
  },
  {
   "cell_type": "markdown",
   "metadata": {},
   "source": [
    "## Instalar paquetes\n",
    "Podemos utilizar funciones mágicas de los Jupyter Notebooks (ipython) para\n",
    "instalar los paquetes necesarios, ya que asi nos aseguramos que estos sean\n",
    "instalados en el ambiente correspondiente."
   ]
  },
  {
   "cell_type": "code",
   "execution_count": null,
   "metadata": {},
   "outputs": [],
   "source": [
    "%pip install --upgrade pandas-gbq 'google-cloud-bigquery[bqstorage,pandas]'\n",
    "%pip install ipywidgets"
   ]
  },
  {
   "cell_type": "code",
   "execution_count": null,
   "metadata": {},
   "outputs": [],
   "source": [
    "%pip install --upgrade pandas"
   ]
  },
  {
   "cell_type": "markdown",
   "metadata": {},
   "source": [
    "## Consultar en Bigquery\n",
    "\n",
    "Para hacer consultas en BiQuery y guardarlas en un dataframe en python podemos\n",
    "emplear 3 métodos que prácticamente son lo mismo:\n",
    "\n",
    "1. Llamadas a BigQuery utilizando la API de python:\n",
    "   Primero creamos el objeto cliente de BigQuery usando su constructor\n",
    "   Client() luego usamos métodos de ese cliente para lo necesario, en\n",
    "   este caso utilizamos el método query_and_wait y luego al iterador\n",
    "   devuelto le aplicamos el método to_dataframe.\n",
    "\n",
    "2. Módulo pandas_gbq:\n",
    "   El cual proporciona una envoltura para el servicio web de análisis\n",
    "   BigQuery de Google, en este caso utilizamos la función read_gbq del módulo.\n",
    "\n",
    "3. Line magics o Cell magics\n",
    "   Acá las lineas o celdas de magia son funciones de ipython que se pueden\n",
    "   llamar con un estilo similar al sintaxis de la linea de comandos, si la\n",
    "   función no es predefinida debemos cargarla si estamos en nuestro entorno\n",
    "   local utilizando el nombre de la extensión.\n"
   ]
  },
  {
   "cell_type": "markdown",
   "metadata": {},
   "source": [
    "### Alternativas:\n",
    "\n",
    "Se definen las variables a utilizar en las alternativas como el string de\n",
    "la consulta y otras según sea necesario para el tipo de consulta.\n",
    "\n",
    "En este caso solamente definimos el string de la consulta."
   ]
  },
  {
   "cell_type": "code",
   "execution_count": null,
   "metadata": {},
   "outputs": [],
   "source": [
    "SQL = \"\"\"\n",
    "SELECT\n",
    "    *\n",
    "FROM bigquery-manu-407202.dsongcp.flights\n",
    "\"\"\""
   ]
  },
  {
   "cell_type": "markdown",
   "metadata": {},
   "source": [
    "#### Alternativa 1 - Llamadas a BigQuery\n",
    "\n",
    "Creamos el objeto cliente y ejecutamos la consulta y conversión del objeto"
   ]
  },
  {
   "cell_type": "code",
   "execution_count": null,
   "metadata": {},
   "outputs": [],
   "source": [
    "client = bigquery.Client()\n",
    "df_bq: pd.DataFrame = client.query_and_wait(SQL).to_dataframe()"
   ]
  },
  {
   "cell_type": "code",
   "execution_count": null,
   "metadata": {},
   "outputs": [],
   "source": [
    "df_bq.info()"
   ]
  },
  {
   "cell_type": "markdown",
   "metadata": {},
   "source": [
    "#### Alternativa 2 - Pandas Google Big Query\n",
    "\n",
    "Utilizamos read_gbq para leer la consulta directamente en un DataFrame con\n",
    "la opción de use_bqstorage_api en True para utilizar la API de\n",
    "BigQuery Storage y así obtener resultados grandes en menor tiempo."
   ]
  },
  {
   "cell_type": "code",
   "execution_count": null,
   "metadata": {},
   "outputs": [],
   "source": [
    "# pyright: reportAssignmentType = false\n",
    "df_bq_pandas: pd.DataFrame = pandas_gbq.read_gbq(SQL, use_bqstorage_api=True)"
   ]
  },
  {
   "cell_type": "markdown",
   "metadata": {},
   "source": [
    "#### Alternativa 3 - Jupyter Magic\n",
    "\n",
    "El sintaxis de la celda mágica es el siguiente:\n",
    "\n",
    "```\n",
    "%%bigquery [<destination_var>] [--project <project>] [--use_legacy_sql]\n",
    "           [--verbose] [--params <params>] <query>\n",
    "```\n",
    "\n",
    "Obs. si nos encontramos en un ambiente local, antes de ejecutar la celda\n",
    "debemos ejecutar la linea mágica load_ext la cual carga las funciones\n",
    "mágicas por su nombre de módulo."
   ]
  },
  {
   "cell_type": "code",
   "execution_count": null,
   "metadata": {},
   "outputs": [],
   "source": [
    "%load_ext google.cloud.bigquery"
   ]
  },
  {
   "cell_type": "code",
   "execution_count": null,
   "metadata": {},
   "outputs": [],
   "source": [
    "%%bigquery df_bq_magic\n",
    "SELECT\n",
    "    *\n",
    "FROM bigquery-manu-407202.dsongcp.flights"
   ]
  },
  {
   "cell_type": "markdown",
   "metadata": {},
   "source": [
    "Descargamos el esquema de la tabla flights y borramos los campos extras\n",
    "que describen la tabla."
   ]
  },
  {
   "cell_type": "code",
   "execution_count": null,
   "metadata": {},
   "outputs": [],
   "source": [
    "!bq show --format=prettyjson dsongcp.flights > flights_schema.json"
   ]
  },
  {
   "cell_type": "markdown",
   "metadata": {},
   "source": [
    "### Leer archivos descargados desde la consola\n",
    "\n",
    "Leemos los archivos descargados desde la consola de google cloud platform\n",
    "para comparar los formatos y que debemos cambiar.\n",
    "\n",
    "Obs. dependiendo del motor para leer los archivos ya sea `ujson` o `pyarrow`\n",
    "los tipos de datos serán distintos."
   ]
  },
  {
   "cell_type": "code",
   "execution_count": null,
   "metadata": {},
   "outputs": [],
   "source": [
    "# import pandas as pd\n",
    "df_console_json = pd.read_json(\"flights/flights.json\",\n",
    "                               orient=\"records\",\n",
    "                               lines=True,\n",
    "                               engine=\"pyarrow\"\n",
    "                               )\n",
    "df_console_json.info()"
   ]
  },
  {
   "cell_type": "markdown",
   "metadata": {},
   "source": [
    "Prueba archivo json pequeño"
   ]
  },
  {
   "cell_type": "code",
   "execution_count": null,
   "metadata": {},
   "outputs": [],
   "source": [
    "df_console_json_fl = pd.read_json(\"flights/flights_few_lines.json\",\n",
    "                                  lines=True,\n",
    "                                  engine=\"pyarrow\"\n",
    "                                  )\n",
    "df_console_json_fl.info()"
   ]
  },
  {
   "cell_type": "code",
   "execution_count": null,
   "metadata": {},
   "outputs": [],
   "source": [
    "df_console_json_fl = pd.read_json(\"flights/flights_few_lines.json\",\n",
    "                                  orient=\"records\",\n",
    "                                  lines=True\n",
    "                                  )\n",
    "df_console_json_fl.info()"
   ]
  },
  {
   "cell_type": "markdown",
   "metadata": {},
   "source": [
    "Prueba archivo csv pequeño"
   ]
  },
  {
   "cell_type": "code",
   "execution_count": null,
   "metadata": {},
   "outputs": [],
   "source": [
    "df_console_csv_fl = pd.read_csv(\"flights/flights_few_lines.csv\")\n",
    "df_console_csv_fl.info()"
   ]
  },
  {
   "cell_type": "code",
   "execution_count": null,
   "metadata": {},
   "outputs": [],
   "source": [
    "df_console_csv = pd.read_csv(\"flights/flights.csv\")\n",
    "df_console_csv.info()"
   ]
  },
  {
   "cell_type": "code",
   "execution_count": null,
   "metadata": {},
   "outputs": [],
   "source": [
    "\n",
    "df_bq[\"FL_DATE\"] = pd.to_datetime(df_bq[\"FL_DATE\"])\n",
    "df_bq[\"FL_DATE\"] = df_bq[\"FL_DATE\"].dt.strftime('%Y-%m-%d')\n",
    "\n",
    "# Test\n",
    "not_string_cols = ['FL_DATE', 'DEP_DELAY', 'TAXI_OUT',\n",
    "                   'TAXI_IN', 'ARR_DELAY', 'CANCELLED', 'DIVERTED']\n",
    "string_cols = [col for col in df_bq.columns if col not in not_string_cols]\n",
    "for col in string_cols:\n",
    "    df_bq[col] = df_bq[col].astype(str)\n",
    "\n",
    "# Completar con ceros a la izquierda las columnas con formato \"hhmm\"\n",
    "for col in [\"CRS_DEP_TIME\", \"DEP_TIME\", \"WHEELS_OFF\", \"WHEELS_ON\", \"CRS_ARR_TIME\", \"ARR_TIME\"]:\n",
    "    df_bq[col] = df_bq[col].str.zfill(4)\n",
    "\n",
    "# Eliminamos los vuelos cancelados y desviados con fines de desarrollo\n",
    "df_bq = df_bq.loc[~df_bq[\"DIVERTED\"] & ~df_bq[\"CANCELLED\"]]"
   ]
  },
  {
   "cell_type": "code",
   "execution_count": null,
   "metadata": {},
   "outputs": [],
   "source": [
    "\n",
    "json = df_bq.to_json(\n",
    "    \"flights_2024.json\",\n",
    "    orient=\"records\",\n",
    "    lines=True,\n",
    ")"
   ]
  },
  {
   "cell_type": "code",
   "execution_count": null,
   "metadata": {},
   "outputs": [],
   "source": [
    "df_csv = pd.read_csv(\"airports_2024.csv\")\n",
    "airports_tz = df_csv.iloc[:, [0, 21, 26]]\n",
    "airports_tz"
   ]
  },
  {
   "cell_type": "markdown",
   "metadata": {},
   "source": [
    "### dic\n",
    "\n",
    "dic concat"
   ]
  },
  {
   "cell_type": "code",
   "execution_count": 5,
   "metadata": {},
   "outputs": [],
   "source": [
    "flights_schema = {\n",
    "    \"fields\": [\n",
    "        {\"mode\": \"NULLABLE\", \"name\": \"FL_DATE\", \"type\": \"STRING\"},\n",
    "        {\"mode\": \"NULLABLE\", \"name\": \"UNIQUE_CARRIER\", \"type\": \"STRING\"},\n",
    "        {\"mode\": \"NULLABLE\", \"name\": \"ORIGIN_AIRPORT_SEQ_ID\", \"type\": \"STRING\"},\n",
    "        {\"mode\": \"NULLABLE\", \"name\": \"ORIGIN\", \"type\": \"STRING\"},\n",
    "        {\"mode\": \"NULLABLE\", \"name\": \"DEST_AIRPORT_SEQ_ID\", \"type\": \"STRING\"},\n",
    "        {\"mode\": \"NULLABLE\", \"name\": \"DEST\", \"type\": \"STRING\"},\n",
    "        {\"mode\": \"NULLABLE\", \"name\": \"CRS_DEP_TIME\", \"type\": \"TIMESTAMP\"},\n",
    "        {\"mode\": \"NULLABLE\", \"name\": \"DEP_TIME\", \"type\": \"TIMESTAMP\"},\n",
    "        {\"mode\": \"NULLABLE\", \"name\": \"DEP_DELAY\", \"type\": \"FLOAT\"},\n",
    "        {\"mode\": \"NULLABLE\", \"name\": \"TAXI_OUT\", \"type\": \"FLOAT\"},\n",
    "        {\"mode\": \"NULLABLE\", \"name\": \"WHEELS_OFF\", \"type\": \"TIMESTAMP\"},\n",
    "        {\"mode\": \"NULLABLE\", \"name\": \"WHEELS_ON\", \"type\": \"TIMESTAMP\"},\n",
    "        {\"mode\": \"NULLABLE\", \"name\": \"TAXI_IN\", \"type\": \"FLOAT\"},\n",
    "        {\"mode\": \"NULLABLE\", \"name\": \"CRS_ARR_TIME\", \"type\": \"TIMESTAMP\"},\n",
    "        {\"mode\": \"NULLABLE\", \"name\": \"ARR_TIME\", \"type\": \"TIMESTAMP\"},\n",
    "        {\"mode\": \"NULLABLE\", \"name\": \"ARR_DELAY\", \"type\": \"FLOAT\"},\n",
    "        {\"mode\": \"NULLABLE\", \"name\": \"CANCELLED\", \"type\": \"BOOLEAN\"},\n",
    "        {\"mode\": \"NULLABLE\", \"name\": \"DIVERTED\", \"type\": \"BOOLEAN\"},\n",
    "        {\"mode\": \"NULLABLE\", \"name\": \"DISTANCE\", \"type\": \"STRING\"},\n",
    "        {\"mode\": \"NULLABLE\", \"name\": \"DEP_AIRPORT_LAT\", \"type\": \"TIMESTAMP\"},\n",
    "        {\"mode\": \"NULLABLE\", \"name\": \"DEP_AIRPORT_LON\", \"type\": \"TIMESTAMP\"},\n",
    "        {\"mode\": \"NULLABLE\", \"name\": \"DEP_AIRPORT_TZOFFSET\", \"type\": \"FLOAT\"},\n",
    "        {\"mode\": \"NULLABLE\", \"name\": \"ARR_AIRPORT_LAT\", \"type\": \"TIMESTAMP\"},\n",
    "        {\"mode\": \"NULLABLE\", \"name\": \"ARR_AIRPORT_LON\", \"type\": \"TIMESTAMP\"},\n",
    "        {\"mode\": \"NULLABLE\", \"name\": \"ARR_AIRPORT_TZOFFSET\", \"type\": \"FLOAT\"},\n",
    "    ]\n",
    "}"
   ]
  },
  {
   "cell_type": "code",
   "execution_count": 6,
   "metadata": {},
   "outputs": [],
   "source": [
    "events_schema = {\n",
    "    \"fields\": [\n",
    "        # Events\n",
    "        {\"mode\": \"NULLABLE\", \"name\": \"EVENT_TYPE\", \"type\": \"STRING\"},\n",
    "        {\"mode\": \"NULLABLE\", \"name\": \"EVENT_TIME\", \"type\": \"TIMESTAMP\"},\n",
    "        {\"mode\": \"NULLABLE\", \"name\": \"EVENT_DATA\", \"type\": \"STRING\"},\n",
    "    ]\n",
    "}"
   ]
  },
  {
   "cell_type": "code",
   "execution_count": 3,
   "metadata": {},
   "outputs": [],
   "source": [
    "# Reasignar la combinación de ambos esquemas a events_schema\n",
    "events_schema = {\n",
    "    \"fields\": flights_schema[\"fields\"] + events_schema[\"fields\"]\n",
    "}"
   ]
  },
  {
   "cell_type": "code",
   "execution_count": 7,
   "metadata": {},
   "outputs": [],
   "source": [
    "# Extender la lista de campos en events_schema directamente con los campos de flights_schema\n",
    "events_schema[\"fields\"][:0] = flights_schema[\"fields\"]"
   ]
  },
  {
   "cell_type": "code",
   "execution_count": 8,
   "metadata": {},
   "outputs": [
    {
     "data": {
      "text/plain": [
       "{'fields': [{'mode': 'NULLABLE', 'name': 'FL_DATE', 'type': 'STRING'},\n",
       "  {'mode': 'NULLABLE', 'name': 'UNIQUE_CARRIER', 'type': 'STRING'},\n",
       "  {'mode': 'NULLABLE', 'name': 'ORIGIN_AIRPORT_SEQ_ID', 'type': 'STRING'},\n",
       "  {'mode': 'NULLABLE', 'name': 'ORIGIN', 'type': 'STRING'},\n",
       "  {'mode': 'NULLABLE', 'name': 'DEST_AIRPORT_SEQ_ID', 'type': 'STRING'},\n",
       "  {'mode': 'NULLABLE', 'name': 'DEST', 'type': 'STRING'},\n",
       "  {'mode': 'NULLABLE', 'name': 'CRS_DEP_TIME', 'type': 'TIMESTAMP'},\n",
       "  {'mode': 'NULLABLE', 'name': 'DEP_TIME', 'type': 'TIMESTAMP'},\n",
       "  {'mode': 'NULLABLE', 'name': 'DEP_DELAY', 'type': 'FLOAT'},\n",
       "  {'mode': 'NULLABLE', 'name': 'TAXI_OUT', 'type': 'FLOAT'},\n",
       "  {'mode': 'NULLABLE', 'name': 'WHEELS_OFF', 'type': 'TIMESTAMP'},\n",
       "  {'mode': 'NULLABLE', 'name': 'WHEELS_ON', 'type': 'TIMESTAMP'},\n",
       "  {'mode': 'NULLABLE', 'name': 'TAXI_IN', 'type': 'FLOAT'},\n",
       "  {'mode': 'NULLABLE', 'name': 'CRS_ARR_TIME', 'type': 'TIMESTAMP'},\n",
       "  {'mode': 'NULLABLE', 'name': 'ARR_TIME', 'type': 'TIMESTAMP'},\n",
       "  {'mode': 'NULLABLE', 'name': 'ARR_DELAY', 'type': 'FLOAT'},\n",
       "  {'mode': 'NULLABLE', 'name': 'CANCELLED', 'type': 'BOOLEAN'},\n",
       "  {'mode': 'NULLABLE', 'name': 'DIVERTED', 'type': 'BOOLEAN'},\n",
       "  {'mode': 'NULLABLE', 'name': 'DISTANCE', 'type': 'STRING'},\n",
       "  {'mode': 'NULLABLE', 'name': 'DEP_AIRPORT_LAT', 'type': 'TIMESTAMP'},\n",
       "  {'mode': 'NULLABLE', 'name': 'DEP_AIRPORT_LON', 'type': 'TIMESTAMP'},\n",
       "  {'mode': 'NULLABLE', 'name': 'DEP_AIRPORT_TZOFFSET', 'type': 'FLOAT'},\n",
       "  {'mode': 'NULLABLE', 'name': 'ARR_AIRPORT_LAT', 'type': 'TIMESTAMP'},\n",
       "  {'mode': 'NULLABLE', 'name': 'ARR_AIRPORT_LON', 'type': 'TIMESTAMP'},\n",
       "  {'mode': 'NULLABLE', 'name': 'ARR_AIRPORT_TZOFFSET', 'type': 'FLOAT'},\n",
       "  {'mode': 'NULLABLE', 'name': 'EVENT_TYPE', 'type': 'STRING'},\n",
       "  {'mode': 'NULLABLE', 'name': 'EVENT_TIME', 'type': 'TIMESTAMP'},\n",
       "  {'mode': 'NULLABLE', 'name': 'EVENT_DATA', 'type': 'STRING'}]}"
      ]
     },
     "execution_count": 8,
     "metadata": {},
     "output_type": "execute_result"
    }
   ],
   "source": [
    "events_schema"
   ]
  },
  {
   "cell_type": "code",
   "execution_count": null,
   "metadata": {},
   "outputs": [],
   "source": [
    "# Combinar los dos diccionarios\n",
    "combined_fields_1 = {\n",
    "    \"fields\": flights_schema[\"fields\"] + events_schema[\"fields\"]\n",
    "}\n",
    "combined_fields_1"
   ]
  },
  {
   "cell_type": "code",
   "execution_count": null,
   "metadata": {},
   "outputs": [],
   "source": [
    "# Combinar los dos diccionarios\n",
    "combined_schema_1 = {\"fields\": flights_schema[\"fields\"].copy()}\n",
    "combined_schema_1[\"fields\"].extend(events_schema[\"fields\"])\n",
    "combined_schema_1"
   ]
  },
  {
   "cell_type": "code",
   "execution_count": null,
   "metadata": {},
   "outputs": [],
   "source": [
    "# Crear una copia del flights_schema para no modificar el original\n",
    "combined_schema_2 = flights_schema.copy()\n",
    "# Extender los campos del esquema de vuelos con los campos del esquema de eventos\n",
    "combined_schema_2[\"fields\"].extend(events_schema[\"fields\"])\n",
    "# Actualizar events_schema con el nuevo esquema combinado\n",
    "events_schema = combined_schema_2\n",
    "events_schema"
   ]
  }
 ],
 "metadata": {
  "kernelspec": {
   "display_name": "dsongcp",
   "language": "python",
   "name": "python3"
  },
  "language_info": {
   "codemirror_mode": {
    "name": "ipython",
    "version": 3
   },
   "file_extension": ".py",
   "mimetype": "text/x-python",
   "name": "python",
   "nbconvert_exporter": "python",
   "pygments_lexer": "ipython3",
   "version": "3.10.12"
  }
 },
 "nbformat": 4,
 "nbformat_minor": 2
}
