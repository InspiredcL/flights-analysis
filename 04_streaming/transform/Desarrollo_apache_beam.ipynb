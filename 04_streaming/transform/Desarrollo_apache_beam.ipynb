{
 "cells": [
  {
   "cell_type": "markdown",
   "metadata": {},
   "source": [
    "# Desarrollo Apache Beam\n",
    "\n",
    "Pasos a seguir para desarrollar los scripts, es redundante pero asi se aprende."
   ]
  },
  {
   "cell_type": "code",
   "execution_count": null,
   "metadata": {},
   "outputs": [],
   "source": [
    "%pip install --upgrade pip"
   ]
  },
  {
   "cell_type": "markdown",
   "metadata": {},
   "source": [
    "Instalamos ipykernel, si es que no existe"
   ]
  },
  {
   "cell_type": "code",
   "execution_count": null,
   "metadata": {},
   "outputs": [],
   "source": [
    "%pip install ipykernel"
   ]
  },
  {
   "cell_type": "markdown",
   "metadata": {},
   "source": [
    "Instalamos las dependencias de apache beam, en este caso el runner interactivo"
   ]
  },
  {
   "cell_type": "code",
   "execution_count": null,
   "metadata": {},
   "outputs": [],
   "source": [
    "%pip install apache-beam[interactive]"
   ]
  },
  {
   "cell_type": "markdown",
   "metadata": {},
   "source": [
    "Cargamos los archivos necesarios para trabajar"
   ]
  },
  {
   "cell_type": "code",
   "execution_count": 1,
   "metadata": {},
   "outputs": [],
   "source": [
    "import csv\n",
    "import apache_beam as beam"
   ]
  },
  {
   "cell_type": "markdown",
   "metadata": {},
   "source": [
    "## 1- Airports\n",
    "\n",
    "Paso 1 para procesar los aeropuertos"
   ]
  },
  {
   "cell_type": "code",
   "execution_count": null,
   "metadata": {},
   "outputs": [],
   "source": [
    "# pyright: reportPrivateImportUsage=false\n",
    "# pyright: reportAttributeAccessIssue=false\n",
    "with beam.Pipeline('DirectRunner') as pipeline:\n",
    "    airports = (pipeline\n",
    "                | beam.io.ReadFromText('airports_2024.csv.gz')\n",
    "                | beam.Map(lambda line: next(csv.reader([line])))\n",
    "                | beam.Map(lambda fields: (fields[0], (fields[21], fields[26])))\n",
    "                )\n",
    "\n",
    "    transformed_airports = (airports\n",
    "                            | beam.Map(lambda airport_data: '{},{}'.format(\n",
    "                                airport_data[0], ','.join(airport_data[1])))\n",
    "                            | beam.io.WriteToText('df01_extracted_airports')\n",
    "                            )"
   ]
  },
  {
   "cell_type": "markdown",
   "metadata": {},
   "source": [
    "[Opcional]\\\n",
    "Antes de ejecutar el paso 2 comprobamos la cantidad de aeropuertos\n",
    "en Estados Unidos\\\n",
    "Aprox. 7288 cumplen con\\\n",
    "AIRPORT_COUNTRY_NAME=='United States'\\\n",
    "o por numero de columna\\\n",
    "8=='United States'"
   ]
  },
  {
   "cell_type": "code",
   "execution_count": 7,
   "metadata": {},
   "outputs": [],
   "source": [
    "# pyright: reportPrivateImportUsage=false\n",
    "# pyright: reportAttributeAccessIssue=false\n",
    "with beam.Pipeline('DirectRunner') as pipeline:\n",
    "    us_airports = (pipeline\n",
    "                | beam.io.ReadFromText('airports_2024.csv.gz')\n",
    "                | beam.Filter(lambda line: \"United States\" in line)\n",
    "                | beam.Map(lambda line: next(csv.reader([line])))\n",
    "                | beam.Map(lambda fields: (fields[0], (fields[21], fields[26])))\n",
    "                )\n",
    "\n",
    "    transformed_airports = (us_airports\n",
    "                            | beam.Map(lambda airport_data: '{},{}'.format(\n",
    "                                airport_data[0], ','.join(airport_data[1])))\n",
    "                            | beam.io.WriteToText('df01_extracted_us_airports')\n",
    "                            )"
   ]
  },
  {
   "cell_type": "markdown",
   "metadata": {},
   "source": [
    "[Opcional]\\\n",
    "Antes de ejecutar el paso 2 comprobamos la cantidad de aeropuertos\n",
    "en Estados Unidos y los aeropuertos actuales\\\n",
    "Aprox. 2926 cumplen con AIRPORT_COUNTRY_NAME=='United States' y\n",
    "AIRPORT_IS_LATEST=='1'"
   ]
  },
  {
   "cell_type": "code",
   "execution_count": 9,
   "metadata": {},
   "outputs": [],
   "source": [
    "# pyright: reportPrivateImportUsage=false\n",
    "# pyright: reportAttributeAccessIssue=false\n",
    "with beam.Pipeline('DirectRunner') as pipeline:\n",
    "    last_us_airports = (pipeline\n",
    "                        | beam.io.ReadFromText('airports_2024.csv.gz')\n",
    "                        | beam.Filter(\n",
    "                            lambda line: \"United States\" in line and line[-1:] == '1'\n",
    "                        )  # no se si va acá o identado\n",
    "                        | beam.Map(lambda line: next(csv.reader([line])))\n",
    "                        | beam.Map(lambda fields: (fields[0], (fields[21], fields[26])))\n",
    "                        )\n",
    "\n",
    "    transformed_airports = (last_us_airports\n",
    "                            | beam.Map(lambda airport_data: '{},{}'.format(\n",
    "                                airport_data[0], ','.join(airport_data[1])))\n",
    "                            | beam.io.WriteToText(\n",
    "                                'df01_extracted_last_us_airports'\n",
    "                            )\n",
    "                            )"
   ]
  },
  {
   "cell_type": "markdown",
   "metadata": {},
   "source": [
    "Eliminamos los archivos procesados."
   ]
  },
  {
   "cell_type": "code",
   "execution_count": 10,
   "metadata": {},
   "outputs": [],
   "source": [
    "!rm df01_extracted_*"
   ]
  },
  {
   "cell_type": "markdown",
   "metadata": {},
   "source": [
    "Obs. Podríamos considerar la fecha de funcionamiento del aeropuerto y las\n",
    "fechas del vuelo en nuestro pipeline eso seria mas correcto."
   ]
  },
  {
   "cell_type": "markdown",
   "metadata": {},
   "source": [
    "## 2- Airports\n",
    "Importamos lo necesario para continuar"
   ]
  },
  {
   "cell_type": "code",
   "execution_count": 2,
   "metadata": {},
   "outputs": [],
   "source": [
    "import timezonefinder\n",
    "from pytz.exceptions import UnknownTimeZoneError"
   ]
  },
  {
   "cell_type": "markdown",
   "metadata": {},
   "source": [
    "Paso 2 para procesar los aeropuertos\\\n",
    "Obs. Duración local 30 min aprox con 7288 filas aprox."
   ]
  },
  {
   "cell_type": "code",
   "execution_count": 3,
   "metadata": {},
   "outputs": [],
   "source": [
    "def addtimezone(lat, lon):\n",
    "    \"\"\"Agrega zona horaria\"\"\"\n",
    "\n",
    "    try:\n",
    "        # Creamos una instancia de la clase para que sea re-usada\n",
    "        tf = timezonefinder.TimezoneFinder()\n",
    "        # Comprobar en qué zona horaria se encuentra un punto\n",
    "        tz = tf.timezone_at(lng=float(lon), lat=float(lat))\n",
    "        if tz is None:\n",
    "            tz = 'UTC'\n",
    "        return lat, lon, tz\n",
    "    except (ValueError, UnknownTimeZoneError):\n",
    "        return lat, lon, 'TIMEZONE'  # Encabezado"
   ]
  },
  {
   "cell_type": "code",
   "execution_count": 4,
   "metadata": {},
   "outputs": [
    {
     "data": {
      "application/javascript": "\n        if (typeof window.interactive_beam_jquery == 'undefined') {\n          var jqueryScript = document.createElement('script');\n          jqueryScript.src = 'https://code.jquery.com/jquery-3.4.1.slim.min.js';\n          jqueryScript.type = 'text/javascript';\n          jqueryScript.onload = function() {\n            var datatableScript = document.createElement('script');\n            datatableScript.src = 'https://cdn.datatables.net/1.10.20/js/jquery.dataTables.min.js';\n            datatableScript.type = 'text/javascript';\n            datatableScript.onload = function() {\n              window.interactive_beam_jquery = jQuery.noConflict(true);\n              window.interactive_beam_jquery(document).ready(function($){\n                \n              });\n            }\n            document.head.appendChild(datatableScript);\n          };\n          document.head.appendChild(jqueryScript);\n        } else {\n          window.interactive_beam_jquery(document).ready(function($){\n            \n          });\n        }"
     },
     "metadata": {},
     "output_type": "display_data"
    }
   ],
   "source": [
    "# pyright: reportPrivateImportUsage=false\n",
    "# pyright: reportAttributeAccessIssue=false\n",
    "with beam.Pipeline('DirectRunner') as pipeline:\n",
    "    airports = (pipeline\n",
    "                | beam.io.ReadFromText('airports_2024.csv.gz')\n",
    "                | beam.Filter(lambda line: \"United States\" in line)\n",
    "                | beam.Map(lambda line: next(csv.reader([line])))\n",
    "                | beam.Map(\n",
    "                    lambda fields: (\n",
    "                        fields[0], addtimezone(fields[21], fields[26])\n",
    "                    )\n",
    "                )\n",
    "                )\n",
    "\n",
    "    airports_with_tz = (airports\n",
    "                        | beam.Map(lambda f: f\"{f[0]},{','.join(f[1])}\")\n",
    "                        | beam.io.textio.WriteToText(\n",
    "                            'df02_airports_with_tz'\n",
    "                        )\n",
    "                        )"
   ]
  },
  {
   "cell_type": "markdown",
   "metadata": {},
   "source": [
    "Eliminamos los archivos procesados."
   ]
  },
  {
   "cell_type": "code",
   "execution_count": 11,
   "metadata": {},
   "outputs": [],
   "source": [
    "!rm df02_airports_*"
   ]
  },
  {
   "cell_type": "markdown",
   "metadata": {},
   "source": [
    "## 3- Airports\n",
    "Importamos lo necesario para continuar"
   ]
  },
  {
   "cell_type": "code",
   "execution_count": 15,
   "metadata": {},
   "outputs": [],
   "source": [
    "import logging\n",
    "import json\n",
    "import datetime\n",
    "import pytz"
   ]
  },
  {
   "cell_type": "markdown",
   "metadata": {},
   "source": [
    "Definimos las funciones a usar en el pipeline"
   ]
  },
  {
   "cell_type": "code",
   "execution_count": 16,
   "metadata": {},
   "outputs": [],
   "source": [
    "def addtimezone(lat, lon):\n",
    "    \"\"\"\n",
    "    Agrega la zona horaria correspondiente a las coordenadas proporcionadas.\n",
    "    \"\"\"\n",
    "\n",
    "    try:\n",
    "        # Crear una instancia de TimezoneFinder\n",
    "        tf = timezonefinder.TimezoneFinder()\n",
    "        # Convertir las coordenadas a números de punto flotante\n",
    "        lat = float(lat)\n",
    "        lon = float(lon)\n",
    "        # Devolver las coordenadas y la zona horaria correspondiente\n",
    "        return lat, lon, tf.timezone_at(lng=lon, lat=lat)\n",
    "    except (ValueError, UnknownTimeZoneError):\n",
    "        # Manejo de excepción en caso de error de valor o timezone\n",
    "        return lat, lon, 'TIMEZONE'  # Encabezado\n",
    "\n",
    "\n",
    "def as_utc(date, hhmm, tzone):\n",
    "    \"\"\" Convierte a UTC.\"\"\"\n",
    "\n",
    "    try:\n",
    "        # Verifica si hay una hora válida y una zona horaria proporcionada\n",
    "        if len(hhmm) > 0 and tzone is not None:\n",
    "            # Para manejar fechas y zonas horarias\n",
    "            # Crea un objeto de zona horaria utilizando la zona proporcionada\n",
    "            loc_tz = pytz.timezone(tzone)\n",
    "            # Convierte la fecha en un objeto datetime en la zona horaria local\n",
    "            loc_dt = loc_tz.localize(\n",
    "                datetime.datetime.strptime(date, '%Y-%m-%d'),\n",
    "                is_dst=False\n",
    "            )\n",
    "            # La hora se divide en horas y minutos, y se agrega a la fecha y hora local\n",
    "            loc_dt += datetime.timedelta(\n",
    "                hours=int(hhmm[:2]),\n",
    "                minutes=int(hhmm[2:])\n",
    "            )\n",
    "            # Convierte la fecha y hora local en UTC\n",
    "            utc_dt = loc_dt.astimezone(pytz.utc)\n",
    "            # Retorna la fecha y hora en formato de cadena 'YYYY-MM-DD HH:MM:SS'\n",
    "            return utc_dt.strftime('%Y-%m-%d %H:%M:%S')\n",
    "        else:\n",
    "            # Si no hay hora válida o zona horaria, retorna una cadena vacía\n",
    "            return ''  # Una cadena vacía corresponde a vuelos cancelados\n",
    "    except ValueError as e:\n",
    "        # Si ocurre un error de ValueError, registra la excepción y vuelve a lanzarla\n",
    "        logging.exception(\"%s %s %s ValueError: %s\", date, hhmm, tzone, e)\n",
    "\n",
    "\n",
    "def tz_correct(line, airport_timezones):\n",
    "    \"\"\" Correcciones de zonas horarias.\"\"\"\n",
    "\n",
    "    # Cargamos los campos del registro JSON en un diccionario llamado \"fields\".\n",
    "    fields = json.loads(line)\n",
    "    try:\n",
    "        # Obtenemos el ID del aeropuerto de origen y destino.\n",
    "        dep_airport_id = fields[\"ORIGIN_AIRPORT_SEQ_ID\"]\n",
    "        arr_airport_id = fields[\"DEST_AIRPORT_SEQ_ID\"]\n",
    "        # Obtenemos las zonas horarias de los aeropuertos de origen y destino.\n",
    "        dep_timezone = airport_timezones[dep_airport_id][2]\n",
    "        arr_timezone = airport_timezones[arr_airport_id][2]\n",
    "        # Iteramos sobre las hhmm de embarque y las convertimos a UTC.\n",
    "        for f in [\"CRS_DEP_TIME\", \"DEP_TIME\", \"WHEELS_OFF\"]:\n",
    "            fields[f] = as_utc(fields[\"FL_DATE\"], fields[f], dep_timezone)\n",
    "        # Iteramos sobre las hhmm de llegada y las convertimos a UTC.\n",
    "        for f in [\"WHEELS_ON\", \"CRS_ARR_TIME\", \"ARR_TIME\"]:\n",
    "            fields[f] = as_utc(fields[\"FL_DATE\"], fields[f], arr_timezone)\n",
    "        # Generamos una cadena JSON con los campos actualizados y la devolvemos.\n",
    "        yield json.dumps(fields)\n",
    "    except KeyError:\n",
    "        # En caso de que falte una clave en el diccionario, registramos una excepción.\n",
    "        logging.exception(\n",
    "            \" Ignorando %s porque el aeropuerto no es conocido\",\n",
    "            line\n",
    "        )"
   ]
  },
  {
   "cell_type": "code",
   "execution_count": 14,
   "metadata": {},
   "outputs": [],
   "source": [
    "# pyright: reportPrivateImportUsage=false\n",
    "# pyright: reportAttributeAccessIssue=false\n",
    "with beam.Pipeline('DirectRunner') as pipeline:\n",
    "    # Leer el archivo 'airports.csv.gz' y filtrar líneas con \"United States\"\n",
    "    airports = (pipeline\n",
    "                | 'airports:read' >> beam.io.ReadFromText(\n",
    "                    'airports_2024.csv.gz')\n",
    "                | beam.Filter(lambda line: \"United States\" in line)\n",
    "                # Mapear cada línea a los campos correspondientes\n",
    "                | 'airports:fields' >> beam.Map(\n",
    "                    lambda line: next(\n",
    "                        csv.reader([line])\n",
    "                    )\n",
    "                )\n",
    "                # Mapear los campos para agregar la zona horaria\n",
    "                | 'airports:tz' >> beam.Map(\n",
    "                    lambda fields: (\n",
    "                        fields[0], addtimezone(fields[21], fields[26])\n",
    "                    )\n",
    "                )\n",
    "                )\n",
    "    logging.info(\"Éxito en airports:tz\")\n",
    "\n",
    "    # Leer el archivo 'flights_sample.json' y realizar corrección de zona horaria\n",
    "    flights = (pipeline\n",
    "               | 'flights:read' >> beam.io.ReadFromText(\n",
    "                   'flights_sample_2024.json'\n",
    "               )\n",
    "               | 'flights:tzcorr' >> beam.FlatMap(\n",
    "                   tz_correct, beam.pvalue.AsDict(airports)\n",
    "               )\n",
    "               )\n",
    "    logging.info(\"Éxito en flights:tzcorr\")\n",
    "\n",
    "    # Escribir los resultados en un archivo 'all_flights'\n",
    "    all_flights = (flights\n",
    "                   | beam.io.textio.WriteToText('df03_all_flights')\n",
    "                   )\n",
    "    logging.info(\"Éxito en escribir df03_all_flights\")"
   ]
  },
  {
   "cell_type": "markdown",
   "metadata": {},
   "source": [
    "## 4- dwa\n",
    "\n",
    "vdsavdsa"
   ]
  },
  {
   "cell_type": "code",
   "execution_count": 17,
   "metadata": {},
   "outputs": [],
   "source": [
    "# pyright: reportOptionalMemberAccess=false\n",
    "\n",
    "\n",
    "def addtimezone(lat, lon):\n",
    "    \"\"\"\n",
    "    Agrega la zona horaria correspondiente a las coordenadas proporcionadas.\n",
    "    \"\"\"\n",
    "\n",
    "    try:\n",
    "        tf = timezonefinder.TimezoneFinder()\n",
    "        lat = float(lat)\n",
    "        lon = float(lon)\n",
    "        return lat, lon, tf.timezone_at(lng=lon, lat=lat)\n",
    "    except (ValueError, UnknownTimeZoneError):\n",
    "        return lat, lon, 'TIMEZONE'  # header\n",
    "\n",
    "\n",
    "def as_utc(date, hhmm, tzone):\n",
    "    \"\"\"Convierte una fecha y hora en formato UTC\"\"\"\n",
    "\n",
    "    try:\n",
    "        if len(hhmm) > 0 and tzone is not None:\n",
    "            loc_tz = pytz.timezone(tzone)\n",
    "            loc_dt = loc_tz.localize(\n",
    "                datetime.datetime.strptime(date, '%Y-%m-%d'),\n",
    "                is_dst=False\n",
    "            )\n",
    "            # can't just parse hhmm because the data contains 2400 and\n",
    "            # the like 0000\n",
    "            loc_dt += datetime.timedelta(\n",
    "                hours=int(hhmm[:2]), minutes=int(hhmm[2:]))\n",
    "            utc_dt = loc_dt.astimezone(pytz.utc)\n",
    "            return (\n",
    "                utc_dt.strftime('%Y-%m-%d %H:%M:%S'),\n",
    "                loc_dt.utcoffset().total_seconds()\n",
    "            )\n",
    "        else:\n",
    "            # Vuelos cancelados y offset de 0\n",
    "            print(\"Devolviendo ('', 0) porque hhmm está vacío or tzone es None\")\n",
    "            return '', 0\n",
    "    except ValueError as e:\n",
    "        logging.exception(\"%s %s %s ValueError: %s\", date, hhmm, tzone, e)\n",
    "        print(\"Exception occurred in as_utc:\", e)\n",
    "        return None\n",
    "\n",
    "\n",
    "def add_24h_if_before(arrtime, deptime):\n",
    "    \"\"\"add_24h_if_before\"\"\"\n",
    "\n",
    "    if len(arrtime) > 0 and len(deptime) > 0 and arrtime < deptime:\n",
    "        adt = datetime.datetime.strptime(arrtime, '%Y-%m-%d %H:%M:%S')\n",
    "        adt += datetime.timedelta(hours=24)\n",
    "        return adt.strftime('%Y-%m-%d %H:%M:%S')\n",
    "    else:\n",
    "        return arrtime\n",
    "\n",
    "\n",
    "def tz_correct(line, airport_timezones):\n",
    "    \"\"\"Realiza un ajuste de zonas horarias\"\"\"\n",
    "\n",
    "    fields = json.loads(line)\n",
    "    try:\n",
    "        # convert all times to UTC\n",
    "        dep_airport_id = fields[\"ORIGIN_AIRPORT_SEQ_ID\"]\n",
    "        arr_airport_id = fields[\"DEST_AIRPORT_SEQ_ID\"]\n",
    "        dep_timezone = airport_timezones[dep_airport_id][2]\n",
    "        arr_timezone = airport_timezones[arr_airport_id][2]\n",
    "\n",
    "        for f in [\"CRS_DEP_TIME\", \"DEP_TIME\", \"WHEELS_OFF\"]:\n",
    "            fields[f], deptz = as_utc(\n",
    "                fields[\"FL_DATE\"],\n",
    "                fields[f],\n",
    "                dep_timezone\n",
    "            )  # type: ignore\n",
    "\n",
    "        for f in [\"WHEELS_ON\", \"CRS_ARR_TIME\", \"ARR_TIME\"]:\n",
    "            fields[f], arrtz = as_utc(\n",
    "                fields[\"FL_DATE\"],\n",
    "                fields[f],\n",
    "                arr_timezone\n",
    "            )  # type: ignore\n",
    "\n",
    "        for f in [\"WHEELS_OFF\", \"WHEELS_ON\", \"CRS_ARR_TIME\", \"ARR_TIME\"]:\n",
    "            fields[f] = add_24h_if_before(\n",
    "                fields[f],\n",
    "                fields[\"DEP_TIME\"]\n",
    "            )\n",
    "\n",
    "        fields[\"DEP_AIRPORT_LAT\"] = airport_timezones[dep_airport_id][0]\n",
    "        fields[\"DEP_AIRPORT_LON\"] = airport_timezones[dep_airport_id][1]\n",
    "        fields[\"DEP_AIRPORT_TZOFFSET\"] = deptz\n",
    "        fields[\"ARR_AIRPORT_LAT\"] = airport_timezones[arr_airport_id][0]\n",
    "        fields[\"ARR_AIRPORT_LON\"] = airport_timezones[arr_airport_id][1]\n",
    "        fields[\"ARR_AIRPORT_TZOFFSET\"] = arrtz\n",
    "        yield json.dumps(fields)\n",
    "    except KeyError as e:\n",
    "        # En caso de que falte una clave en el diccionario, registramos una excepción.\n",
    "        logging.exception(\n",
    "            \" Ignorando %s aeropuerto no conocido, KeyError Error: %s\",\n",
    "            line,\n",
    "            e\n",
    "        )"
   ]
  },
  {
   "cell_type": "code",
   "execution_count": null,
   "metadata": {},
   "outputs": [],
   "source": [
    "# pyright: reportPrivateImportUsage=false\n",
    "# pyright: reportAttributeAccessIssue=false\n",
    "with beam.Pipeline('DirectRunner') as pipeline:\n",
    "    airports = (pipeline\n",
    "                | 'airports:read' >> beam.io.ReadFromText(\n",
    "                    'airports_2024.csv.gz'\n",
    "                )\n",
    "                | beam.Filter(lambda line: \"United States\" in line)\n",
    "                | 'airports:fields' >> beam.Map(\n",
    "                    lambda line: next(\n",
    "                        csv.reader([line])\n",
    "                    )\n",
    "                )\n",
    "                | 'airports:tz' >> beam.Map(\n",
    "                    lambda fields: (\n",
    "                        fields[0],\n",
    "                        addtimezone(fields[21], fields[26])\n",
    "                    )\n",
    "                )\n",
    "                )\n",
    "    flights = (pipeline\n",
    "                | 'flights:read' >> beam.io.ReadFromText(\n",
    "                    'flights_sample_2024.json'\n",
    "                )\n",
    "                | 'flights:tzcorr' >> beam.FlatMap(\n",
    "                    tz_correct,\n",
    "                    beam.pvalue.AsDict(\n",
    "                        airports)  # type: ignore\n",
    "                )\n",
    "                )\n",
    "\n",
    "    all_flights = (flights\n",
    "                    | beam.io.textio.WriteToText('df04_all_flights')\n",
    "                    )"
   ]
  }
 ],
 "metadata": {
  "kernelspec": {
   "display_name": ".beam-04",
   "language": "python",
   "name": "python3"
  },
  "language_info": {
   "codemirror_mode": {
    "name": "ipython",
    "version": 3
   },
   "file_extension": ".py",
   "mimetype": "text/x-python",
   "name": "python",
   "nbconvert_exporter": "python",
   "pygments_lexer": "ipython3",
   "version": "3.10.12"
  }
 },
 "nbformat": 4,
 "nbformat_minor": 2
}
